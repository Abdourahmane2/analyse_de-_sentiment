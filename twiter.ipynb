{
 "cells": [
  {
   "cell_type": "code",
   "execution_count": null,
   "metadata": {},
   "outputs": [
    {
     "name": "stdout",
     "output_type": "stream",
     "text": [
      "100 tweets collectés et sauvegardés dans 'tweets_data.csv'\n"
     ]
    }
   ],
   "source": [
    "import asyncio\n",
    "from twikit import Client, TooManyRequests\n",
    "from configparser import ConfigParser\n",
    "import pandas as pd\n",
    "from datetime import datetime, timedelta\n",
    "\n",
    "# Constantes\n",
    "MINIMUMS = 100  \n",
    "REQUETE = 'iphone 16 | nouvel-iphone -Fr'  \n",
    "# Lire les informations de connexion depuis le fichier config.ini\n",
    "config = ConfigParser()\n",
    "config.read('config.ini')\n",
    "username = config['X']['username']\n",
    "email = config['X']['email']\n",
    "password = config['X']['password']\n",
    "\n",
    "client = Client(language='fr-FR')  # Configurer pour obtenir des résultats en français\n",
    "\n",
    "# Fonction principale async\n",
    "async def main():\n",
    "    # Authentification\n",
    "    await client.login(auth_info_1=username, auth_info_2=email, password=password)\n",
    "    \n",
    "    # Sauvegarder les cookies après l'authentification\n",
    "    client.save_cookies('cookies.json')\n",
    "    client.load_cookies('cookies.json')  # Charger les cookies pour les sessions futures\n",
    "\n",
    "    # Initialisation de la liste pour les tweets et compteur\n",
    "    donne = []\n",
    "    tweet_count = 0\n",
    "\n",
    "    # Rechercher les tweets avec la requête spécifiée\n",
    "    tweets = await client.search_tweet(REQUETE, product='Top')\n",
    "\n",
    "    # Boucle pour paginer les tweets\n",
    "    while tweet_count < MINIMUMS:\n",
    "            # Récupérer la page suivante de tweets\n",
    "            encore = await tweets.next()\n",
    "\n",
    "            for tweet in encore:\n",
    "                post_data = {\n",
    "                    'Texte': tweet.full_text,\n",
    "                    'Nombre_Likes': tweet.favorite_count,\n",
    "                    'Nombre_Retweets': tweet.retweet_count,\n",
    "                    'Followers_Utilisateur': tweet.user.followers_count,\n",
    "                    'Utilisateur': tweet.user.screen_name,\n",
    "                    'Date_Publication': tweet.created_at\n",
    "                }\n",
    "                donne.append(post_data)\n",
    "                tweet_count += 1\n",
    "\n",
    "            \n",
    "                if tweet_count >= MINIMUMS:\n",
    "                    break\n",
    "           \n",
    "        \n",
    "\n",
    "    if donne:\n",
    "        df = pd.DataFrame(donne)\n",
    "        df.to_csv('tweets_data.csv', index=False)\n",
    "        print(f\"{len(df)} tweets collectés et sauvegardés dans 'tweets_data.csv'\")\n",
    "    else:\n",
    "        print(\"Aucune donnée collectée.\")\n",
    "\n",
    "# Exécuter la fonction async\n",
    "await main()\n"
   ]
  }
 ],
 "metadata": {
  "kernelspec": {
   "display_name": "Python 3",
   "language": "python",
   "name": "python3"
  },
  "language_info": {
   "codemirror_mode": {
    "name": "ipython",
    "version": 3
   },
   "file_extension": ".py",
   "mimetype": "text/x-python",
   "name": "python",
   "nbconvert_exporter": "python",
   "pygments_lexer": "ipython3",
   "version": "3.11.6"
  }
 },
 "nbformat": 4,
 "nbformat_minor": 2
}
